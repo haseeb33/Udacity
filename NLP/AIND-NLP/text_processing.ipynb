{
 "cells": [
  {
   "cell_type": "markdown",
   "metadata": {},
   "source": [
    "# Text Processing\n",
    "\n",
    "## Capturing Text Data\n",
    "\n",
    "### Plain Text"
   ]
  },
  {
   "cell_type": "code",
   "execution_count": 1,
   "metadata": {},
   "outputs": [
    {
     "name": "stdout",
     "output_type": "stream",
     "text": [
      "Hieroglyphic writing dates from c. 3000 BC, and is composed of hundreds of symbols. A hieroglyph can represent a word, a sound, or a silent determinative; and the same symbol can serve different purposes in different contexts. Hieroglyphs were a formal script, used on stone monuments and in tombs, that could be as detailed as individual works of art.\n",
      "\n"
     ]
    }
   ],
   "source": [
    "import os\n",
    "\n",
    "# Read in a plain text file\n",
    "with open(os.path.join(\"data\", \"hieroglyph.txt\"), \"r\") as f:\n",
    "    text = f.read()\n",
    "    print(text)"
   ]
  },
  {
   "cell_type": "markdown",
   "metadata": {},
   "source": [
    "### Tabular Data"
   ]
  },
  {
   "cell_type": "code",
   "execution_count": 2,
   "metadata": {
    "scrolled": true
   },
   "outputs": [
    {
     "data": {
      "text/html": [
       "<div>\n",
       "<style scoped>\n",
       "    .dataframe tbody tr th:only-of-type {\n",
       "        vertical-align: middle;\n",
       "    }\n",
       "\n",
       "    .dataframe tbody tr th {\n",
       "        vertical-align: top;\n",
       "    }\n",
       "\n",
       "    .dataframe thead th {\n",
       "        text-align: right;\n",
       "    }\n",
       "</style>\n",
       "<table border=\"1\" class=\"dataframe\">\n",
       "  <thead>\n",
       "    <tr style=\"text-align: right;\">\n",
       "      <th></th>\n",
       "      <th>publisher</th>\n",
       "      <th>title</th>\n",
       "    </tr>\n",
       "  </thead>\n",
       "  <tbody>\n",
       "    <tr>\n",
       "      <td>0</td>\n",
       "      <td>Livemint</td>\n",
       "      <td>fed's charles plosser sees high bar for change...</td>\n",
       "    </tr>\n",
       "    <tr>\n",
       "      <td>1</td>\n",
       "      <td>IFA Magazine</td>\n",
       "      <td>us open: stocks fall after fed official hints ...</td>\n",
       "    </tr>\n",
       "    <tr>\n",
       "      <td>2</td>\n",
       "      <td>IFA Magazine</td>\n",
       "      <td>fed risks falling 'behind the curve', charles ...</td>\n",
       "    </tr>\n",
       "    <tr>\n",
       "      <td>3</td>\n",
       "      <td>Moneynews</td>\n",
       "      <td>fed's plosser: nasty weather has curbed job gr...</td>\n",
       "    </tr>\n",
       "    <tr>\n",
       "      <td>4</td>\n",
       "      <td>NASDAQ</td>\n",
       "      <td>plosser: fed may have to accelerate tapering pace</td>\n",
       "    </tr>\n",
       "  </tbody>\n",
       "</table>\n",
       "</div>"
      ],
      "text/plain": [
       "      publisher                                              title\n",
       "0      Livemint  fed's charles plosser sees high bar for change...\n",
       "1  IFA Magazine  us open: stocks fall after fed official hints ...\n",
       "2  IFA Magazine  fed risks falling 'behind the curve', charles ...\n",
       "3     Moneynews  fed's plosser: nasty weather has curbed job gr...\n",
       "4        NASDAQ  plosser: fed may have to accelerate tapering pace"
      ]
     },
     "execution_count": 2,
     "metadata": {},
     "output_type": "execute_result"
    }
   ],
   "source": [
    "import pandas as pd\n",
    "\n",
    "# Extract text column from a dataframe\n",
    "df = pd.read_csv(os.path.join(\"data\", \"news.csv\"))\n",
    "df.head()[['publisher', 'title']]\n",
    "\n",
    "# Convert text column to lowercase\n",
    "df['title'] = df['title'].str.lower()\n",
    "df.head()[['publisher', 'title']]"
   ]
  },
  {
   "cell_type": "markdown",
   "metadata": {},
   "source": [
    "### Online Resource"
   ]
  },
  {
   "cell_type": "code",
   "execution_count": 3,
   "metadata": {
    "scrolled": true
   },
   "outputs": [
    {
     "name": "stdout",
     "output_type": "stream",
     "text": [
      "{\n",
      "    \"success\": {\n",
      "        \"total\": 1\n",
      "    },\n",
      "    \"contents\": {\n",
      "        \"quotes\": [\n",
      "            {\n",
      "                \"quote\": \"Many of life's failures are experienced by people who did not realize how close they were to success when they gave up.\",\n",
      "                \"length\": \"119\",\n",
      "                \"author\": \"Thomas Edison\",\n",
      "                \"tags\": [\n",
      "                    \"inspire\",\n",
      "                    \"success\"\n",
      "                ],\n",
      "                \"category\": \"inspire\",\n",
      "                \"language\": \"en\",\n",
      "                \"date\": \"2020-02-20\",\n",
      "                \"permalink\": \"https://theysaidso.com/quote/thomas-edison-many-of-lifes-failures-are-experienced-by-people-who-did-not-reali\",\n",
      "                \"id\": \"qnI5_EBubjhw9eFkE2ZsrweF\",\n",
      "                \"background\": \"https://theysaidso.com/img/qod/qod-inspire.jpg\",\n",
      "                \"title\": \"Inspiring Quote of the day\"\n",
      "            }\n",
      "        ]\n",
      "    },\n",
      "    \"baseurl\": \"https://theysaidso.com\",\n",
      "    \"copyright\": {\n",
      "        \"year\": 2022,\n",
      "        \"url\": \"https://theysaidso.com\"\n",
      "    }\n",
      "}\n",
      "Many of life's failures are experienced by people who did not realize how close they were to success when they gave up. \n",
      "-- Thomas Edison\n"
     ]
    }
   ],
   "source": [
    "import requests\n",
    "import json\n",
    "\n",
    "# Fetch data from a REST API\n",
    "r = requests.get(\n",
    "    \"https://quotes.rest/qod.json\")\n",
    "res = r.json()\n",
    "print(json.dumps(res, indent=4))\n",
    "\n",
    "# Extract relevant object and field\n",
    "q = res[\"contents\"][\"quotes\"][0]\n",
    "print(q[\"quote\"], \"\\n--\", q[\"author\"])"
   ]
  },
  {
   "cell_type": "markdown",
   "metadata": {},
   "source": [
    "## Cleaning"
   ]
  },
  {
   "cell_type": "code",
   "execution_count": 4,
   "metadata": {
    "scrolled": true
   },
   "outputs": [
    {
     "name": "stdout",
     "output_type": "stream",
     "text": [
      "<html op=\"news\"><head><meta name=\"referrer\" content=\"origin\"><meta name=\"viewport\" content=\"width=device-width, initial-scale=1.0\"><link rel=\"stylesheet\" type=\"text/css\" href=\"news.css?LFf6FpiTyYdK2r0htaYJ\">\n",
      "        <link rel=\"shortcut icon\" href=\"favicon.ico\">\n",
      "          <link rel=\"alternate\" type=\"application/rss+xml\" title=\"RSS\" href=\"rss\">\n",
      "        <title>Hacker News</title></head><body><center><table id=\"hnmain\" border=\"0\" cellpadding=\"0\" cellspacing=\"0\" width=\"85%\" bgcolor=\"#f6f6ef\">\n",
      "          <tr><td bgcolor=\"#000000\"><img src=\"s.gif\" height=\"5\" width=\"0\"></td></tr>\n",
      "<tr><td bgcolor=\"#ff6600\"><table border=\"0\" cellpadding=\"0\" cellspacing=\"0\" width=\"100%\" style=\"padding:2px\"><tr><td style=\"width:18px;padding-right:4px\"><a href=\"https://news.ycombinator.com\"><img src=\"y18.gif\" width=\"18\" height=\"18\" style=\"border:1px white solid;\"></a></td>\n",
      "                  <td style=\"line-height:12pt; height:10px;\"><span class=\"pagetop\"><b class=\"hnname\"><a href=\"news\">Hacker News</a></b>\n",
      "              <a href=\"newest\">new</a> | <a href=\"front\">past</a> | <a href=\"newcomments\">comments</a> | <a href=\"ask\">ask</a> | <a href=\"show\">show</a> | <a href=\"jobs\">jobs</a> | <a href=\"submit\">submit</a>            </span></td><td style=\"text-align:right;padding-right:4px;\"><span class=\"pagetop\">\n",
      "                              <a href=\"login?goto=news\">login</a>\n",
      "                          </span></td>\n",
      "              </tr></table></td></tr>\n",
      "<tr id=\"pagespace\" title=\"\" style=\"height:10px\"></tr><tr><td><table border=\"0\" cellpadding=\"0\" cellspacing=\"0\" class=\"itemlist\">\n",
      "              <tr class='athing' id='22378679'>\n",
      "      <td align=\"right\" valign=\"top\" class=\"title\"><span class=\"rank\">1.</span></td>      <td valign=\"top\" class=\"votelinks\"><center><a id='up_22378679' href='vote?id=22378679&amp;how=up&amp;goto=news'><div class='votearrow' title='upvote'></div></a></center></td><td class=\"title\"><a href=\"https://ascmag.com/articles/the-mandalorian\" class=\"storylink\">Real-time, in-camera background compositing in The Mandalorian</a><span class=\"sitebit comhead\"> (<a href=\"from?site=ascmag.com\"><span class=\"sitestr\">ascmag.com</span></a>)</span></td></tr><tr><td colspan=\"2\"></td><td class=\"subtext\">\n",
      "        <span class=\"score\" id=\"score_22378679\">111 points</span> by <a href=\"user?id=ashin\" class=\"hnuser\">ashin</a> <span class=\"age\"><a href=\"item?id=22378679\">1 hour ago</a></span> <span id=\"unv_22378679\"></span> | <a href=\"hide?id=22378679&amp;goto=news\">hide</a> | <a href=\"item?id=22378679\">14&nbsp;comments</a>              </td></tr>\n",
      "      <tr class=\"spacer\" style=\"height:5px\"></tr>\n",
      "                <tr class='athing' id='22376794'>\n",
      "      <td align=\"right\" valign=\"top\" class=\"title\"><span class=\"rank\">2.</span></td>      <td valign=\"top\" class=\"votelinks\"><center><a id='up_22376794' href='vote?id=22376794&amp;how=up&amp;goto=news'><div class='votearrow' title='upvote'></div></a></center></td><td class=\"title\"><a href=\"https://techcrunch.com/2020/02/20/digitalocean-raises-100m-in-debt-as-it-scales-towards-revenue-of-300m-profitability/\" class=\"storylink\">DigitalOcean raises $100M in debt as it scales toward revenue of $300M</a><span class=\"sitebit comhead\"> (<a href=\"from?site=techcrunch.com\"><span class=\"sitestr\">techcrunch.com</span></a>)</span></td></tr><tr><td colspan=\"2\"></td><td class=\"subtext\">\n",
      "        <span class=\"score\" id=\"score_22376794\">295 points</span> by <a href=\"user?id=drchiu\" class=\"hnuser\">drchiu</a> <span class=\"age\"><a href=\"item?id=22376794\">5 hours ago</a></span> <span id=\"unv_22376794\"></span> | <a href=\"hide?id=22376794&amp;goto=news\">hide</a> | <a href=\"item?id=22376794\">142&nbsp;comments</a>              </td></tr>\n",
      "      <tr class=\"spacer\" style=\"height:5px\"></tr>\n",
      "                <tr class='athing' id='22378512'>\n",
      "      <td align=\"right\" valign=\"top\" class=\"title\"><span class=\"rank\">3.</span></td>      <td valign=\"top\" class=\"votelinks\"><center><a id='up_22378512' href='vote?id=22378512&amp;how=up&amp;goto=news'><div class='votearrow' title='upvote'></div></a></center></td><td class=\"title\"><a href=\"http://www.atlasoftheuniverse.com/12lys.html\" class=\"storylink\">The Universe Within 12.5 Light Years the Nearest Stars</a><span class=\"sitebit comhead\"> (<a href=\"from?site=atlasoftheuniverse.com\"><span class=\"sitestr\">atlasoftheuniverse.com</span></a>)</span></td></tr><tr><td colspan=\"2\"></td><td class=\"subtext\">\n",
      "        <span class=\"score\" id=\"score_22378512\">54 points</span> by <a href=\"user?id=dluan\" class=\"hnuser\">dluan</a> <span class=\"age\"><a href=\"item?id=22378512\">1 hour ago</a></span> <span id=\"unv_22378512\"></span> | <a href=\"hide?id=22378512&amp;goto=news\">hide</a> | <a href=\"item?id=22378512\">20&nbsp;comments</a>              </td></tr>\n",
      "      <tr class=\"spacer\" style=\"height:5px\"></tr>\n",
      "                <tr class='athing' id='22378555'>\n",
      "      <td align=\"right\" valign=\"top\" class=\"title\"><span class=\"rank\">4.</span></td>      <td valign=\"top\" class=\"votelinks\"><center><a id='up_22378555' href='vote?id=22378555&amp;how=up&amp;goto=news'><div class='votearrow' title='upvote'></div></a></center></td><td class=\"title\"><a href=\"https://danluu.com/discontinuities/\" class=\"storylink\">Suspicious Discontinuities</a><span class=\"sitebit comhead\"> (<a href=\"from?site=danluu.com\"><span class=\"sitestr\">danluu.com</span></a>)</span></td></tr><tr><td colspan=\"2\"></td><td class=\"subtext\">\n",
      "        <span class=\"score\" id=\"score_22378555\">45 points</span> by <a href=\"user?id=janvdberg\" class=\"hnuser\">janvdberg</a> <span class=\"age\"><a href=\"item?id=22378555\">1 hour ago</a></span> <span id=\"unv_22378555\"></span> | <a href=\"hide?id=22378555&amp;goto=news\">hide</a> | <a href=\"item?id=22378555\">3&nbsp;comments</a>              </td></tr>\n",
      "      <tr class=\"spacer\" style=\"height:5px\"></tr>\n",
      "                <tr class='athing' id='22375774'>\n",
      "      <td align=\"right\" valign=\"top\" class=\"title\"><span class=\"rank\">5.</span></td>      <td valign=\"top\" class=\"votelinks\"><center><a id='up_22375774' href='vote?id=22375774&amp;how=up&amp;goto=news'><div class='votearrow' title='upvote'></div></a></center></td><td class=\"title\"><a href=\"https://techcrunch.com/2020/02/20/gretel-nsa-amazon-github-data/\" class=\"storylink\">A group of ex-NSA and Amazon engineers are building a ‘GitHub for data’</a><span class=\"sitebit comhead\"> (<a href=\"from?site=techcrunch.com\"><span class=\"sitestr\">techcrunch.com</span></a>)</span></td></tr><tr><td colspan=\"2\"></td><td class=\"subtext\">\n",
      "        <span class=\"score\" id=\"score_22375774\">256 points</span> by <a href=\"user?id=malshe\" class=\"hnuser\">malshe</a> <span class=\"age\"><a href=\"item?id=22375774\">6 hours ago</a></span> <span id=\"unv_22375774\"></span> | <a href=\"hide?id=22375774&amp;goto=news\">hide</a> | <a href=\"item?id=22375774\">171&nbsp;comments</a>              </td></tr>\n",
      "      <tr class=\"spacer\" style=\"height:5px\"></tr>\n",
      "                <tr class='athing' id='22378554'>\n",
      "      <td align=\"right\" valign=\"top\" class=\"title\"><span class=\"rank\">6.</span></td>      <td valign=\"top\" class=\"votelinks\"><center><a id='up_22378554' href='vote?id=22378554&amp;how=up&amp;goto=news'><div class='votearrow' title='upvote'></div></a></center></td><td class=\"title\"><a href=\"https://kaikenhuippu.com/2020/02/18/why-germans-wont-heat-their-homes-even-with-free-electricity/\" class=\"storylink\">Why Germans won’t heat their homes even with free electricity?</a><span class=\"sitebit comhead\"> (<a href=\"from?site=kaikenhuippu.com\"><span class=\"sitestr\">kaikenhuippu.com</span></a>)</span></td></tr><tr><td colspan=\"2\"></td><td class=\"subtext\">\n",
      "        <span class=\"score\" id=\"score_22378554\">32 points</span> by <a href=\"user?id=ericdanielski\" class=\"hnuser\">ericdanielski</a> <span class=\"age\"><a href=\"item?id=22378554\">1 hour ago</a></span> <span id=\"unv_22378554\"></span> | <a href=\"hide?id=22378554&amp;goto=news\">hide</a> | <a href=\"item?id=22378554\">2&nbsp;comments</a>              </td></tr>\n",
      "      <tr class=\"spacer\" style=\"height:5px\"></tr>\n",
      "                <tr class='athing' id='22377249'>\n",
      "      <td align=\"right\" valign=\"top\" class=\"title\"><span class=\"rank\">7.</span></td>      <td valign=\"top\" class=\"votelinks\"><center><a id='up_22377249' href='vote?id=22377249&amp;how=up&amp;goto=news'><div class='votearrow' title='upvote'></div></a></center></td><td class=\"title\"><a href=\"https://www.theguardian.com/global/2020/feb/20/love-and-free-food-mel-brooks-and-carl-reiner-share-the-secrets-of-their-70-year-friendship\" class=\"storylink\">Mel Brooks and Carl Reiner on their 70-year friendship</a><span class=\"sitebit comhead\"> (<a href=\"from?site=theguardian.com\"><span class=\"sitestr\">theguardian.com</span></a>)</span></td></tr><tr><td colspan=\"2\"></td><td class=\"subtext\">\n",
      "        <span class=\"score\" id=\"score_22377249\">96 points</span> by <a href=\"user?id=tintinnabula\" class=\"hnuser\">tintinnabula</a> <span class=\"age\"><a href=\"item?id=22377249\">4 hours ago</a></span> <span id=\"unv_22377249\"></span> | <a href=\"hide?id=22377249&amp;goto=news\">hide</a> | <a href=\"item?id=22377249\">18&nbsp;comments</a>              </td></tr>\n",
      "      <tr class=\"spacer\" style=\"height:5px\"></tr>\n",
      "                <tr class='athing' id='22376732'>\n",
      "      <td align=\"right\" valign=\"top\" class=\"title\"><span class=\"rank\">8.</span></td>      <td valign=\"top\" class=\"votelinks\"><center><a id='up_22376732' href='vote?id=22376732&amp;how=up&amp;goto=news'><div class='votearrow' title='upvote'></div></a></center></td><td class=\"title\"><a href=\"item?id=22376732\" class=\"storylink\">Launch HN: PostHog (YC W20) – open-source product analytics</a></td></tr><tr><td colspan=\"2\"></td><td class=\"subtext\">\n",
      "        <span class=\"score\" id=\"score_22376732\">127 points</span> by <a href=\"user?id=james_impliu\" class=\"hnuser\">james_impliu</a> <span class=\"age\"><a href=\"item?id=22376732\">5 hours ago</a></span> <span id=\"unv_22376732\"></span> | <a href=\"hide?id=22376732&amp;goto=news\">hide</a> | <a href=\"item?id=22376732\">48&nbsp;comments</a>              </td></tr>\n",
      "      <tr class=\"spacer\" style=\"height:5px\"></tr>\n",
      "                <tr class='athing' id='22379156'>\n",
      "      <td align=\"right\" valign=\"top\" class=\"title\"><span class=\"rank\">9.</span></td>      <td></td><td class=\"title\"><a href=\"https://angel.co/company/truebill/jobs/704167-infrastructure-engineer\" class=\"storylink\" rel=\"nofollow\">Truebill (YC W16) Is Hiring an Infrastructure Engineer (Remote)</a><span class=\"sitebit comhead\"> (<a href=\"from?site=angel.co\"><span class=\"sitestr\">angel.co</span></a>)</span></td></tr><tr><td colspan=\"2\"></td><td class=\"subtext\">\n",
      "        <span class=\"age\"><a href=\"item?id=22379156\">22 minutes ago</a></span> | <a href=\"hide?id=22379156&amp;goto=news\">hide</a>      </td></tr>\n",
      "      <tr class=\"spacer\" style=\"height:5px\"></tr>\n",
      "                <tr class='athing' id='22374991'>\n",
      "      <td align=\"right\" valign=\"top\" class=\"title\"><span class=\"rank\">10.</span></td>      <td valign=\"top\" class=\"votelinks\"><center><a id='up_22374991' href='vote?id=22374991&amp;how=up&amp;goto=news'><div class='votearrow' title='upvote'></div></a></center></td><td class=\"title\"><a href=\"https://github.com/syscolabs/kasaya\" class=\"storylink\">Show HN: Kasaya – A scripting language and runtime for browser automation</a><span class=\"sitebit comhead\"> (<a href=\"from?site=github.com\"><span class=\"sitestr\">github.com</span></a>)</span></td></tr><tr><td colspan=\"2\"></td><td class=\"subtext\">\n",
      "        <span class=\"score\" id=\"score_22374991\">291 points</span> by <a href=\"user?id=hliyan\" class=\"hnuser\">hliyan</a> <span class=\"age\"><a href=\"item?id=22374991\">8 hours ago</a></span> <span id=\"unv_22374991\"></span> | <a href=\"hide?id=22374991&amp;goto=news\">hide</a> | <a href=\"item?id=22374991\">82&nbsp;comments</a>              </td></tr>\n",
      "      <tr class=\"spacer\" style=\"height:5px\"></tr>\n",
      "                <tr class='athing' id='22369141'>\n",
      "      <td align=\"right\" valign=\"top\" class=\"title\"><span class=\"rank\">11.</span></td>      <td valign=\"top\" class=\"votelinks\"><center><a id='up_22369141' href='vote?id=22369141&amp;how=up&amp;goto=news'><div class='votearrow' title='upvote'></div></a></center></td><td class=\"title\"><a href=\"https://www.historytoday.com/reviews/brothels-ancient-pompeii\" class=\"storylink\">Brothels of Ancient Pompeii</a><span class=\"sitebit comhead\"> (<a href=\"from?site=historytoday.com\"><span class=\"sitestr\">historytoday.com</span></a>)</span></td></tr><tr><td colspan=\"2\"></td><td class=\"subtext\">\n",
      "        <span class=\"score\" id=\"score_22369141\">62 points</span> by <a href=\"user?id=diodorus\" class=\"hnuser\">diodorus</a> <span class=\"age\"><a href=\"item?id=22369141\">4 hours ago</a></span> <span id=\"unv_22369141\"></span> | <a href=\"hide?id=22369141&amp;goto=news\">hide</a> | <a href=\"item?id=22369141\">10&nbsp;comments</a>              </td></tr>\n",
      "      <tr class=\"spacer\" style=\"height:5px\"></tr>\n",
      "                <tr class='athing' id='22374825'>\n",
      "      <td align=\"right\" valign=\"top\" class=\"title\"><span class=\"rank\">12.</span></td>      <td valign=\"top\" class=\"votelinks\"><center><a id='up_22374825' href='vote?id=22374825&amp;how=up&amp;goto=news'><div class='votearrow' title='upvote'></div></a></center></td><td class=\"title\"><a href=\"https://blurha.sh/\" class=\"storylink\">BlurHash: Algorithm to generate compact representation of an image placeholder</a><span class=\"sitebit comhead\"> (<a href=\"from?site=blurha.sh\"><span class=\"sitestr\">blurha.sh</span></a>)</span></td></tr><tr><td colspan=\"2\"></td><td class=\"subtext\">\n",
      "        <span class=\"score\" id=\"score_22374825\">246 points</span> by <a href=\"user?id=pcr910303\" class=\"hnuser\">pcr910303</a> <span class=\"age\"><a href=\"item?id=22374825\">9 hours ago</a></span> <span id=\"unv_22374825\"></span> | <a href=\"hide?id=22374825&amp;goto=news\">hide</a> | <a href=\"item?id=22374825\">96&nbsp;comments</a>              </td></tr>\n",
      "      <tr class=\"spacer\" style=\"height:5px\"></tr>\n",
      "                <tr class='athing' id='22374346'>\n",
      "      <td align=\"right\" valign=\"top\" class=\"title\"><span class=\"rank\">13.</span></td>      <td valign=\"top\" class=\"votelinks\"><center><a id='up_22374346' href='vote?id=22374346&amp;how=up&amp;goto=news'><div class='votearrow' title='upvote'></div></a></center></td><td class=\"title\"><a href=\"https://www.buzzfeednews.com/article/alexkantrowitz/how-saudi-arabia-infiltrated-twitter\" class=\"storylink\">How Saudi Arabia Infiltrated Twitter</a><span class=\"sitebit comhead\"> (<a href=\"from?site=buzzfeednews.com\"><span class=\"sitestr\">buzzfeednews.com</span></a>)</span></td></tr><tr><td colspan=\"2\"></td><td class=\"subtext\">\n",
      "        <span class=\"score\" id=\"score_22374346\">242 points</span> by <a href=\"user?id=blatherard\" class=\"hnuser\">blatherard</a> <span class=\"age\"><a href=\"item?id=22374346\">10 hours ago</a></span> <span id=\"unv_22374346\"></span> | <a href=\"hide?id=22374346&amp;goto=news\">hide</a> | <a href=\"item?id=22374346\">70&nbsp;comments</a>              </td></tr>\n",
      "      <tr class=\"spacer\" style=\"height:5px\"></tr>\n",
      "                <tr class='athing' id='22378226'>\n",
      "      <td align=\"right\" valign=\"top\" class=\"title\"><span class=\"rank\">14.</span></td>      <td valign=\"top\" class=\"votelinks\"><center><a id='up_22378226' href='vote?id=22378226&amp;how=up&amp;goto=news'><div class='votearrow' title='upvote'></div></a></center></td><td class=\"title\"><a href=\"https://advances.sciencemag.org/content/4/12/eaau6200\" class=\"storylink\">Later school start times are associated with more sleep and better performance</a><span class=\"sitebit comhead\"> (<a href=\"from?site=sciencemag.org\"><span class=\"sitestr\">sciencemag.org</span></a>)</span></td></tr><tr><td colspan=\"2\"></td><td class=\"subtext\">\n",
      "        <span class=\"score\" id=\"score_22378226\">137 points</span> by <a href=\"user?id=simonebrunozzi\" class=\"hnuser\">simonebrunozzi</a> <span class=\"age\"><a href=\"item?id=22378226\">2 hours ago</a></span> <span id=\"unv_22378226\"></span> | <a href=\"hide?id=22378226&amp;goto=news\">hide</a> | <a href=\"item?id=22378226\">67&nbsp;comments</a>              </td></tr>\n",
      "      <tr class=\"spacer\" style=\"height:5px\"></tr>\n",
      "                <tr class='athing' id='22378600'>\n",
      "      <td align=\"right\" valign=\"top\" class=\"title\"><span class=\"rank\">15.</span></td>      <td valign=\"top\" class=\"votelinks\"><center><a id='up_22378600' href='vote?id=22378600&amp;how=up&amp;goto=news'><div class='votearrow' title='upvote'></div></a></center></td><td class=\"title\"><a href=\"https://blog.doyensec.com/2020/02/19/solokeys-audit.html\" class=\"storylink\">FIDO2 security key company publishes results of internal security audit</a><span class=\"sitebit comhead\"> (<a href=\"from?site=doyensec.com\"><span class=\"sitestr\">doyensec.com</span></a>)</span></td></tr><tr><td colspan=\"2\"></td><td class=\"subtext\">\n",
      "        <span class=\"score\" id=\"score_22378600\">10 points</span> by <a href=\"user?id=conorpp\" class=\"hnuser\">conorpp</a> <span class=\"age\"><a href=\"item?id=22378600\">1 hour ago</a></span> <span id=\"unv_22378600\"></span> | <a href=\"hide?id=22378600&amp;goto=news\">hide</a> | <a href=\"item?id=22378600\">discuss</a>              </td></tr>\n",
      "      <tr class=\"spacer\" style=\"height:5px\"></tr>\n",
      "                <tr class='athing' id='22377934'>\n",
      "      <td align=\"right\" valign=\"top\" class=\"title\"><span class=\"rank\">16.</span></td>      <td valign=\"top\" class=\"votelinks\"><center><a id='up_22377934' href='vote?id=22377934&amp;how=up&amp;goto=news'><div class='votearrow' title='upvote'></div></a></center></td><td class=\"title\"><a href=\"http://introtodeeplearning.com/\" class=\"storylink\">MIT 6.S191: Introduction to Deep Learning</a><span class=\"sitebit comhead\"> (<a href=\"from?site=introtodeeplearning.com\"><span class=\"sitestr\">introtodeeplearning.com</span></a>)</span></td></tr><tr><td colspan=\"2\"></td><td class=\"subtext\">\n",
      "        <span class=\"score\" id=\"score_22377934\">80 points</span> by <a href=\"user?id=say_it_as_it_is\" class=\"hnuser\">say_it_as_it_is</a> <span class=\"age\"><a href=\"item?id=22377934\">2 hours ago</a></span> <span id=\"unv_22377934\"></span> | <a href=\"hide?id=22377934&amp;goto=news\">hide</a> | <a href=\"item?id=22377934\">1&nbsp;comment</a>              </td></tr>\n",
      "      <tr class=\"spacer\" style=\"height:5px\"></tr>\n",
      "                <tr class='athing' id='22378914'>\n",
      "      <td align=\"right\" valign=\"top\" class=\"title\"><span class=\"rank\">17.</span></td>      <td valign=\"top\" class=\"votelinks\"><center><a id='up_22378914' href='vote?id=22378914&amp;how=up&amp;goto=news'><div class='votearrow' title='upvote'></div></a></center></td><td class=\"title\"><a href=\"https://www.githubstatus.com/incidents/bd29l6zgr43g\" class=\"storylink\" rel=\"nofollow\">Incident on 2020-02-20 21:31 UTC</a><span class=\"sitebit comhead\"> (<a href=\"from?site=githubstatus.com\"><span class=\"sitestr\">githubstatus.com</span></a>)</span></td></tr><tr><td colspan=\"2\"></td><td class=\"subtext\">\n",
      "        <span class=\"score\" id=\"score_22378914\">5 points</span> by <a href=\"user?id=guessmyname\" class=\"hnuser\">guessmyname</a> <span class=\"age\"><a href=\"item?id=22378914\">55 minutes ago</a></span> <span id=\"unv_22378914\"></span> | <a href=\"hide?id=22378914&amp;goto=news\">hide</a> | <a href=\"item?id=22378914\">discuss</a>              </td></tr>\n",
      "      <tr class=\"spacer\" style=\"height:5px\"></tr>\n",
      "                <tr class='athing' id='22361282'>\n",
      "      <td align=\"right\" valign=\"top\" class=\"title\"><span class=\"rank\">18.</span></td>      <td valign=\"top\" class=\"votelinks\"><center><a id='up_22361282' href='vote?id=22361282&amp;how=up&amp;goto=news'><div class='votearrow' title='upvote'></div></a></center></td><td class=\"title\"><a href=\"https://gizmodo.com/larry-tessler-modeless-computing-advocate-has-passed-1841787408\" class=\"storylink\">Larry Tesler Has Died</a><span class=\"sitebit comhead\"> (<a href=\"from?site=gizmodo.com\"><span class=\"sitestr\">gizmodo.com</span></a>)</span></td></tr><tr><td colspan=\"2\"></td><td class=\"subtext\">\n",
      "        <span class=\"score\" id=\"score_22361282\">1224 points</span> by <a href=\"user?id=drallison\" class=\"hnuser\">drallison</a> <span class=\"age\"><a href=\"item?id=22361282\">1 day ago</a></span> <span id=\"unv_22361282\"></span> | <a href=\"hide?id=22361282&amp;goto=news\">hide</a> | <a href=\"item?id=22361282\">135&nbsp;comments</a>              </td></tr>\n",
      "      <tr class=\"spacer\" style=\"height:5px\"></tr>\n",
      "                <tr class='athing' id='22372937'>\n",
      "      <td align=\"right\" valign=\"top\" class=\"title\"><span class=\"rank\">19.</span></td>      <td valign=\"top\" class=\"votelinks\"><center><a id='up_22372937' href='vote?id=22372937&amp;how=up&amp;goto=news'><div class='votearrow' title='upvote'></div></a></center></td><td class=\"title\"><a href=\"http://gallium.inria.fr/blog/incremental-cycle-detection/\" class=\"storylink\">Formal proof and analysis of an incremental cycle detection algorithm</a><span class=\"sitebit comhead\"> (<a href=\"from?site=inria.fr\"><span class=\"sitestr\">inria.fr</span></a>)</span></td></tr><tr><td colspan=\"2\"></td><td class=\"subtext\">\n",
      "        <span class=\"score\" id=\"score_22372937\">16 points</span> by <a href=\"user?id=lelf\" class=\"hnuser\">lelf</a> <span class=\"age\"><a href=\"item?id=22372937\">2 hours ago</a></span> <span id=\"unv_22372937\"></span> | <a href=\"hide?id=22372937&amp;goto=news\">hide</a> | <a href=\"item?id=22372937\">1&nbsp;comment</a>              </td></tr>\n",
      "      <tr class=\"spacer\" style=\"height:5px\"></tr>\n",
      "                <tr class='athing' id='22377395'>\n",
      "      <td align=\"right\" valign=\"top\" class=\"title\"><span class=\"rank\">20.</span></td>      <td valign=\"top\" class=\"votelinks\"><center><a id='up_22377395' href='vote?id=22377395&amp;how=up&amp;goto=news'><div class='votearrow' title='upvote'></div></a></center></td><td class=\"title\"><a href=\"https://www.cambridge.org/core/journals/antiquity/article/new-neanderthal-remains-associated-with-the-flower-burial-at-shanidar-cave/E7E94F650FF5488680829048FA72E32A\" class=\"storylink\">New Neanderthal remains associated with the ‘flower burial’ at Shanidar Cave</a><span class=\"sitebit comhead\"> (<a href=\"from?site=cambridge.org\"><span class=\"sitestr\">cambridge.org</span></a>)</span></td></tr><tr><td colspan=\"2\"></td><td class=\"subtext\">\n",
      "        <span class=\"score\" id=\"score_22377395\">19 points</span> by <a href=\"user?id=bookofjoe\" class=\"hnuser\">bookofjoe</a> <span class=\"age\"><a href=\"item?id=22377395\">3 hours ago</a></span> <span id=\"unv_22377395\"></span> | <a href=\"hide?id=22377395&amp;goto=news\">hide</a> | <a href=\"item?id=22377395\">discuss</a>              </td></tr>\n",
      "      <tr class=\"spacer\" style=\"height:5px\"></tr>\n",
      "                <tr class='athing' id='22365496'>\n",
      "      <td align=\"right\" valign=\"top\" class=\"title\"><span class=\"rank\">21.</span></td>      <td valign=\"top\" class=\"votelinks\"><center><a id='up_22365496' href='vote?id=22365496&amp;how=up&amp;goto=news'><div class='votearrow' title='upvote'></div></a></center></td><td class=\"title\"><a href=\"http://www.laputan.org/mud/\" class=\"storylink\">Big Ball of Mud (1999)</a><span class=\"sitebit comhead\"> (<a href=\"from?site=laputan.org\"><span class=\"sitestr\">laputan.org</span></a>)</span></td></tr><tr><td colspan=\"2\"></td><td class=\"subtext\">\n",
      "        <span class=\"score\" id=\"score_22365496\">100 points</span> by <a href=\"user?id=brudgers\" class=\"hnuser\">brudgers</a> <span class=\"age\"><a href=\"item?id=22365496\">8 hours ago</a></span> <span id=\"unv_22365496\"></span> | <a href=\"hide?id=22365496&amp;goto=news\">hide</a> | <a href=\"item?id=22365496\">30&nbsp;comments</a>              </td></tr>\n",
      "      <tr class=\"spacer\" style=\"height:5px\"></tr>\n",
      "                <tr class='athing' id='22370667'>\n",
      "      <td align=\"right\" valign=\"top\" class=\"title\"><span class=\"rank\">22.</span></td>      <td valign=\"top\" class=\"votelinks\"><center><a id='up_22370667' href='vote?id=22370667&amp;how=up&amp;goto=news'><div class='votearrow' title='upvote'></div></a></center></td><td class=\"title\"><a href=\"https://en.wikipedia.org/wiki/Bert_Sutherland\" class=\"storylink\">Bert Sutherland Has Died</a><span class=\"sitebit comhead\"> (<a href=\"from?site=wikipedia.org\"><span class=\"sitestr\">wikipedia.org</span></a>)</span></td></tr><tr><td colspan=\"2\"></td><td class=\"subtext\">\n",
      "        <span class=\"score\" id=\"score_22370667\">619 points</span> by <a href=\"user?id=dang\" class=\"hnuser\">dang</a> <span class=\"age\"><a href=\"item?id=22370667\">1 day ago</a></span> <span id=\"unv_22370667\"></span> | <a href=\"hide?id=22370667&amp;goto=news\">hide</a> | <a href=\"item?id=22370667\">30&nbsp;comments</a>              </td></tr>\n",
      "      <tr class=\"spacer\" style=\"height:5px\"></tr>\n",
      "                <tr class='athing' id='22374883'>\n",
      "      <td align=\"right\" valign=\"top\" class=\"title\"><span class=\"rank\">23.</span></td>      <td valign=\"top\" class=\"votelinks\"><center><a id='up_22374883' href='vote?id=22374883&amp;how=up&amp;goto=news'><div class='votearrow' title='upvote'></div></a></center></td><td class=\"title\"><a href=\"https://eng.uber.com/generative-teaching-networks/\" class=\"storylink\">Generative Teaching Networks: Accelerating Neural Architecture Search</a><span class=\"sitebit comhead\"> (<a href=\"from?site=uber.com\"><span class=\"sitestr\">uber.com</span></a>)</span></td></tr><tr><td colspan=\"2\"></td><td class=\"subtext\">\n",
      "        <span class=\"score\" id=\"score_22374883\">88 points</span> by <a href=\"user?id=yigitdemirag\" class=\"hnuser\">yigitdemirag</a> <span class=\"age\"><a href=\"item?id=22374883\">9 hours ago</a></span> <span id=\"unv_22374883\"></span> | <a href=\"hide?id=22374883&amp;goto=news\">hide</a> | <a href=\"item?id=22374883\">13&nbsp;comments</a>              </td></tr>\n",
      "      <tr class=\"spacer\" style=\"height:5px\"></tr>\n",
      "                <tr class='athing' id='22376698'>\n",
      "      <td align=\"right\" valign=\"top\" class=\"title\"><span class=\"rank\">24.</span></td>      <td valign=\"top\" class=\"votelinks\"><center><a id='up_22376698' href='vote?id=22376698&amp;how=up&amp;goto=news'><div class='votearrow' title='upvote'></div></a></center></td><td class=\"title\"><a href=\"https://www.bbc.co.uk/news/business-51570401\" class=\"storylink\">Barclays scraps 'Big Brother' staff tracking system within one week</a><span class=\"sitebit comhead\"> (<a href=\"from?site=bbc.co.uk\"><span class=\"sitestr\">bbc.co.uk</span></a>)</span></td></tr><tr><td colspan=\"2\"></td><td class=\"subtext\">\n",
      "        <span class=\"score\" id=\"score_22376698\">150 points</span> by <a href=\"user?id=joshuahughes\" class=\"hnuser\">joshuahughes</a> <span class=\"age\"><a href=\"item?id=22376698\">5 hours ago</a></span> <span id=\"unv_22376698\"></span> | <a href=\"hide?id=22376698&amp;goto=news\">hide</a> | <a href=\"item?id=22376698\">124&nbsp;comments</a>              </td></tr>\n",
      "      <tr class=\"spacer\" style=\"height:5px\"></tr>\n",
      "                <tr class='athing' id='22374408'>\n",
      "      <td align=\"right\" valign=\"top\" class=\"title\"><span class=\"rank\">25.</span></td>      <td valign=\"top\" class=\"votelinks\"><center><a id='up_22374408' href='vote?id=22374408&amp;how=up&amp;goto=news'><div class='votearrow' title='upvote'></div></a></center></td><td class=\"title\"><a href=\"https://olivercameron.substack.com/p/the-next-leap-in-self-driving-prediction\" class=\"storylink\">The Next Leap in Self-Driving: Prediction</a><span class=\"sitebit comhead\"> (<a href=\"from?site=olivercameron.substack.com\"><span class=\"sitestr\">olivercameron.substack.com</span></a>)</span></td></tr><tr><td colspan=\"2\"></td><td class=\"subtext\">\n",
      "        <span class=\"score\" id=\"score_22374408\">79 points</span> by <a href=\"user?id=edward\" class=\"hnuser\">edward</a> <span class=\"age\"><a href=\"item?id=22374408\">10 hours ago</a></span> <span id=\"unv_22374408\"></span> | <a href=\"hide?id=22374408&amp;goto=news\">hide</a> | <a href=\"item?id=22374408\">108&nbsp;comments</a>              </td></tr>\n",
      "      <tr class=\"spacer\" style=\"height:5px\"></tr>\n",
      "                <tr class='athing' id='22375331'>\n",
      "      <td align=\"right\" valign=\"top\" class=\"title\"><span class=\"rank\">26.</span></td>      <td valign=\"top\" class=\"votelinks\"><center><a id='up_22375331' href='vote?id=22375331&amp;how=up&amp;goto=news'><div class='votearrow' title='upvote'></div></a></center></td><td class=\"title\"><a href=\"http://nomodes.com/Larry_Tesler_Consulting/Complexity_Law.html\" class=\"storylink\">The Law of Conservation of Complexity</a><span class=\"sitebit comhead\"> (<a href=\"from?site=nomodes.com\"><span class=\"sitestr\">nomodes.com</span></a>)</span></td></tr><tr><td colspan=\"2\"></td><td class=\"subtext\">\n",
      "        <span class=\"score\" id=\"score_22375331\">63 points</span> by <a href=\"user?id=angrygoat\" class=\"hnuser\">angrygoat</a> <span class=\"age\"><a href=\"item?id=22375331\">8 hours ago</a></span> <span id=\"unv_22375331\"></span> | <a href=\"hide?id=22375331&amp;goto=news\">hide</a> | <a href=\"item?id=22375331\">32&nbsp;comments</a>              </td></tr>\n",
      "      <tr class=\"spacer\" style=\"height:5px\"></tr>\n",
      "                <tr class='athing' id='22373422'>\n",
      "      <td align=\"right\" valign=\"top\" class=\"title\"><span class=\"rank\">27.</span></td>      <td valign=\"top\" class=\"votelinks\"><center><a id='up_22373422' href='vote?id=22373422&amp;how=up&amp;goto=news'><div class='votearrow' title='upvote'></div></a></center></td><td class=\"title\"><a href=\"http://blog.leahhanson.us/post/recursecenter2016/haiku_icons.html\" class=\"storylink\">500 Byte Images: The Haiku Vector Icon Format (2016)</a><span class=\"sitebit comhead\"> (<a href=\"from?site=leahhanson.us\"><span class=\"sitestr\">leahhanson.us</span></a>)</span></td></tr><tr><td colspan=\"2\"></td><td class=\"subtext\">\n",
      "        <span class=\"score\" id=\"score_22373422\">239 points</span> by <a href=\"user?id=cosmojg\" class=\"hnuser\">cosmojg</a> <span class=\"age\"><a href=\"item?id=22373422\">14 hours ago</a></span> <span id=\"unv_22373422\"></span> | <a href=\"hide?id=22373422&amp;goto=news\">hide</a> | <a href=\"item?id=22373422\">86&nbsp;comments</a>              </td></tr>\n",
      "      <tr class=\"spacer\" style=\"height:5px\"></tr>\n",
      "                <tr class='athing' id='22371426'>\n",
      "      <td align=\"right\" valign=\"top\" class=\"title\"><span class=\"rank\">28.</span></td>      <td valign=\"top\" class=\"votelinks\"><center><a id='up_22371426' href='vote?id=22371426&amp;how=up&amp;goto=news'><div class='votearrow' title='upvote'></div></a></center></td><td class=\"title\"><a href=\"https://www.atlasobscura.com/articles/manuscript-fragments-purse-lining\" class=\"storylink\" rel=\"nofollow\">A trashed Italian manuscript got sewn into a sweet silk purse</a><span class=\"sitebit comhead\"> (<a href=\"from?site=atlasobscura.com\"><span class=\"sitestr\">atlasobscura.com</span></a>)</span></td></tr><tr><td colspan=\"2\"></td><td class=\"subtext\">\n",
      "        <span class=\"score\" id=\"score_22371426\">6 points</span> by <a href=\"user?id=Vigier\" class=\"hnuser\">Vigier</a> <span class=\"age\"><a href=\"item?id=22371426\">1 hour ago</a></span> <span id=\"unv_22371426\"></span> | <a href=\"hide?id=22371426&amp;goto=news\">hide</a> | <a href=\"item?id=22371426\">discuss</a>              </td></tr>\n",
      "      <tr class=\"spacer\" style=\"height:5px\"></tr>\n",
      "                <tr class='athing' id='22376248'>\n",
      "      <td align=\"right\" valign=\"top\" class=\"title\"><span class=\"rank\">29.</span></td>      <td valign=\"top\" class=\"votelinks\"><center><a id='up_22376248' href='vote?id=22376248&amp;how=up&amp;goto=news'><div class='votearrow' title='upvote'></div></a></center></td><td class=\"title\"><a href=\"https://fivethirtyeight.com/features/what-happens-to-your-mail-order-mattress-after-you-return-it/\" class=\"storylink\">What happens to a mail-order mattress after you return it</a><span class=\"sitebit comhead\"> (<a href=\"from?site=fivethirtyeight.com\"><span class=\"sitestr\">fivethirtyeight.com</span></a>)</span></td></tr><tr><td colspan=\"2\"></td><td class=\"subtext\">\n",
      "        <span class=\"score\" id=\"score_22376248\">144 points</span> by <a href=\"user?id=japaget\" class=\"hnuser\">japaget</a> <span class=\"age\"><a href=\"item?id=22376248\">6 hours ago</a></span> <span id=\"unv_22376248\"></span> | <a href=\"hide?id=22376248&amp;goto=news\">hide</a> | <a href=\"item?id=22376248\">121&nbsp;comments</a>              </td></tr>\n",
      "      <tr class=\"spacer\" style=\"height:5px\"></tr>\n",
      "                <tr class='athing' id='22376095'>\n",
      "      <td align=\"right\" valign=\"top\" class=\"title\"><span class=\"rank\">30.</span></td>      <td valign=\"top\" class=\"votelinks\"><center><a id='up_22376095' href='vote?id=22376095&amp;how=up&amp;goto=news'><div class='votearrow' title='upvote'></div></a></center></td><td class=\"title\"><a href=\"https://www.reuters.com/article/us-internet-regulation-justice-idUSKBN20D26S\" class=\"storylink\">Should Facebook, Google be liable for user posts? asks U.S. Attorney General</a><span class=\"sitebit comhead\"> (<a href=\"from?site=reuters.com\"><span class=\"sitestr\">reuters.com</span></a>)</span></td></tr><tr><td colspan=\"2\"></td><td class=\"subtext\">\n",
      "        <span class=\"score\" id=\"score_22376095\">104 points</span> by <a href=\"user?id=jhatax\" class=\"hnuser\">jhatax</a> <span class=\"age\"><a href=\"item?id=22376095\">6 hours ago</a></span> <span id=\"unv_22376095\"></span> | <a href=\"hide?id=22376095&amp;goto=news\">hide</a> | <a href=\"item?id=22376095\">191&nbsp;comments</a>              </td></tr>\n",
      "      <tr class=\"spacer\" style=\"height:5px\"></tr>\n",
      "            <tr class=\"morespace\" style=\"height:10px\"></tr><tr><td colspan=\"2\"></td><td class=\"title\"><a href=\"news?p=2\" class=\"morelink\" rel=\"next\">More</a></td></tr>\n",
      "  </table>\n",
      "</td></tr>\n",
      "<tr><td><img src=\"s.gif\" height=\"10\" width=\"0\"><table width=\"100%\" cellspacing=\"0\" cellpadding=\"1\"><tr><td bgcolor=\"#ff6600\"></td></tr></table><br><center><a href=\"https://www.ycombinator.com/apply/\">\n",
      "        Applications are open for YC Summer 2020\n",
      "      </a></center><br><center><span class=\"yclinks\"><a href=\"newsguidelines.html\">Guidelines</a>\n",
      "        | <a href=\"newsfaq.html\">FAQ</a>\n",
      "        | <a href=\"mailto:hn@ycombinator.com\">Support</a>\n",
      "        | <a href=\"https://github.com/HackerNews/API\">API</a>\n",
      "        | <a href=\"security.html\">Security</a>\n",
      "        | <a href=\"lists\">Lists</a>\n",
      "        | <a href=\"bookmarklet.html\" rel=\"nofollow\">Bookmarklet</a>\n",
      "        | <a href=\"http://www.ycombinator.com/legal/\">Legal</a>\n",
      "        | <a href=\"http://www.ycombinator.com/apply/\">Apply to YC</a>\n",
      "        | <a href=\"mailto:hn@ycombinator.com\">Contact</a></span><br><br><form method=\"get\" action=\"//hn.algolia.com/\">Search:\n",
      "          <input type=\"text\" name=\"q\" value=\"\" size=\"17\" autocorrect=\"off\" spellcheck=\"false\" autocapitalize=\"off\" autocomplete=\"false\"></form>\n",
      "            </center></td></tr>\n",
      "      </table></center></body><script type='text/javascript' src='hn.js?LFf6FpiTyYdK2r0htaYJ'></script></html>\n",
      "\n"
     ]
    }
   ],
   "source": [
    "import requests\n",
    "\n",
    "# Fetch a web page\n",
    "r = requests.get(\"https://news.ycombinator.com\")\n",
    "print(r.text)"
   ]
  },
  {
   "cell_type": "code",
   "execution_count": 5,
   "metadata": {},
   "outputs": [
    {
     "name": "stdout",
     "output_type": "stream",
     "text": [
      "\n",
      "        \n",
      "          \n",
      "        Hacker News\n",
      "          \n",
      "\n",
      "                  Hacker News\n",
      "              new | past | comments | ask | show | jobs | submit            \n",
      "                              login\n",
      "                          \n",
      "              \n",
      "\n",
      "              \n",
      "      1.      Real-time, in-camera background compositing in The Mandalorian (ascmag.com)\n",
      "        111 points by ashin 1 hour ago  | hide | 14&nbsp;comments              \n",
      "      \n",
      "                \n",
      "      2.      DigitalOcean raises $100M in debt as it scales toward revenue of $300M (techcrunch.com)\n",
      "        295 points by drchiu 5 hours ago  | hide | 142&nbsp;comments              \n",
      "      \n",
      "                \n",
      "      3.      The Universe Within 12.5 Light Years the Nearest Stars (atlasoftheuniverse.com)\n",
      "        54 points by dluan 1 hour ago  | hide | 20&nbsp;comments              \n",
      "      \n",
      "                \n",
      "      4.      Suspicious Discontinuities (danluu.com)\n",
      "        45 points by janvdberg 1 hour ago  | hide | 3&nbsp;comments              \n",
      "      \n",
      "                \n",
      "      5.      A group of ex-NSA and Amazon engineers are building a ‘GitHub for data’ (techcrunch.com)\n",
      "        256 points by malshe 6 hours ago  | hide | 171&nbsp;comments              \n",
      "      \n",
      "                \n",
      "      6.      Why Germans won’t heat their homes even with free electricity? (kaikenhuippu.com)\n",
      "        32 points by ericdanielski 1 hour ago  | hide | 2&nbsp;comments              \n",
      "      \n",
      "                \n",
      "      7.      Mel Brooks and Carl Reiner on their 70-year friendship (theguardian.com)\n",
      "        96 points by tintinnabula 4 hours ago  | hide | 18&nbsp;comments              \n",
      "      \n",
      "                \n",
      "      8.      Launch HN: PostHog (YC W20) – open-source product analytics\n",
      "        127 points by james_impliu 5 hours ago  | hide | 48&nbsp;comments              \n",
      "      \n",
      "                \n",
      "      9.      Truebill (YC W16) Is Hiring an Infrastructure Engineer (Remote) (angel.co)\n",
      "        22 minutes ago | hide      \n",
      "      \n",
      "                \n",
      "      10.      Show HN: Kasaya – A scripting language and runtime for browser automation (github.com)\n",
      "        291 points by hliyan 8 hours ago  | hide | 82&nbsp;comments              \n",
      "      \n",
      "                \n",
      "      11.      Brothels of Ancient Pompeii (historytoday.com)\n",
      "        62 points by diodorus 4 hours ago  | hide | 10&nbsp;comments              \n",
      "      \n",
      "                \n",
      "      12.      BlurHash: Algorithm to generate compact representation of an image placeholder (blurha.sh)\n",
      "        246 points by pcr910303 9 hours ago  | hide | 96&nbsp;comments              \n",
      "      \n",
      "                \n",
      "      13.      How Saudi Arabia Infiltrated Twitter (buzzfeednews.com)\n",
      "        242 points by blatherard 10 hours ago  | hide | 70&nbsp;comments              \n",
      "      \n",
      "                \n",
      "      14.      Later school start times are associated with more sleep and better performance (sciencemag.org)\n",
      "        137 points by simonebrunozzi 2 hours ago  | hide | 67&nbsp;comments              \n",
      "      \n",
      "                \n",
      "      15.      FIDO2 security key company publishes results of internal security audit (doyensec.com)\n",
      "        10 points by conorpp 1 hour ago  | hide | discuss              \n",
      "      \n",
      "                \n",
      "      16.      MIT 6.S191: Introduction to Deep Learning (introtodeeplearning.com)\n",
      "        80 points by say_it_as_it_is 2 hours ago  | hide | 1&nbsp;comment              \n",
      "      \n",
      "                \n",
      "      17.      Incident on 2020-02-20 21:31 UTC (githubstatus.com)\n",
      "        5 points by guessmyname 55 minutes ago  | hide | discuss              \n",
      "      \n",
      "                \n",
      "      18.      Larry Tesler Has Died (gizmodo.com)\n",
      "        1224 points by drallison 1 day ago  | hide | 135&nbsp;comments              \n",
      "      \n",
      "                \n",
      "      19.      Formal proof and analysis of an incremental cycle detection algorithm (inria.fr)\n",
      "        16 points by lelf 2 hours ago  | hide | 1&nbsp;comment              \n",
      "      \n",
      "                \n",
      "      20.      New Neanderthal remains associated with the ‘flower burial’ at Shanidar Cave (cambridge.org)\n",
      "        19 points by bookofjoe 3 hours ago  | hide | discuss              \n",
      "      \n",
      "                \n",
      "      21.      Big Ball of Mud (1999) (laputan.org)\n",
      "        100 points by brudgers 8 hours ago  | hide | 30&nbsp;comments              \n",
      "      \n",
      "                \n",
      "      22.      Bert Sutherland Has Died (wikipedia.org)\n",
      "        619 points by dang 1 day ago  | hide | 30&nbsp;comments              \n",
      "      \n",
      "                \n",
      "      23.      Generative Teaching Networks: Accelerating Neural Architecture Search (uber.com)\n",
      "        88 points by yigitdemirag 9 hours ago  | hide | 13&nbsp;comments              \n",
      "      \n",
      "                \n",
      "      24.      Barclays scraps 'Big Brother' staff tracking system within one week (bbc.co.uk)\n",
      "        150 points by joshuahughes 5 hours ago  | hide | 124&nbsp;comments              \n",
      "      \n",
      "                \n",
      "      25.      The Next Leap in Self-Driving: Prediction (olivercameron.substack.com)\n",
      "        79 points by edward 10 hours ago  | hide | 108&nbsp;comments              \n",
      "      \n",
      "                \n",
      "      26.      The Law of Conservation of Complexity (nomodes.com)\n",
      "        63 points by angrygoat 8 hours ago  | hide | 32&nbsp;comments              \n",
      "      \n",
      "                \n",
      "      27.      500 Byte Images: The Haiku Vector Icon Format (2016) (leahhanson.us)\n",
      "        239 points by cosmojg 14 hours ago  | hide | 86&nbsp;comments              \n",
      "      \n",
      "                \n",
      "      28.      A trashed Italian manuscript got sewn into a sweet silk purse (atlasobscura.com)\n",
      "        6 points by Vigier 1 hour ago  | hide | discuss              \n",
      "      \n",
      "                \n",
      "      29.      What happens to a mail-order mattress after you return it (fivethirtyeight.com)\n",
      "        144 points by japaget 6 hours ago  | hide | 121&nbsp;comments              \n",
      "      \n",
      "                \n",
      "      30.      Should Facebook, Google be liable for user posts? asks U.S. Attorney General (reuters.com)\n",
      "        104 points by jhatax 6 hours ago  | hide | 191&nbsp;comments              \n",
      "      \n",
      "            More\n",
      "  \n",
      "\n",
      "\n",
      "        Applications are open for YC Summer 2020\n",
      "      Guidelines\n",
      "        | FAQ\n",
      "        | Support\n",
      "        | API\n",
      "        | Security\n",
      "        | Lists\n",
      "        | Bookmarklet\n",
      "        | Legal\n",
      "        | Apply to YC\n",
      "        | ContactSearch:\n",
      "          \n",
      "            \n",
      "      \n",
      "\n"
     ]
    }
   ],
   "source": [
    "import re\n",
    "\n",
    "# Remove HTML tags using RegEx\n",
    "pattern = re.compile(r'<.*?>')  # tags look like <...>\n",
    "print(pattern.sub('', r.text))  # replace them with blank"
   ]
  },
  {
   "cell_type": "code",
   "execution_count": 6,
   "metadata": {},
   "outputs": [
    {
     "name": "stdout",
     "output_type": "stream",
     "text": [
      "\n",
      "        \n",
      "          \n",
      "        Hacker News\n",
      "          \n",
      "\n",
      "                  Hacker News\n",
      "              new | past | comments | ask | show | jobs | submit            \n",
      "                              login\n",
      "                          \n",
      "              \n",
      "\n",
      "              \n",
      "      1.      Real-time, in-camera background compositing in The Mandalorian (ascmag.com)\n",
      "        111 points by ashin 1 hour ago  | hide | 14 comments              \n",
      "      \n",
      "                \n",
      "      2.      DigitalOcean raises $100M in debt as it scales toward revenue of $300M (techcrunch.com)\n",
      "        295 points by drchiu 5 hours ago  | hide | 142 comments              \n",
      "      \n",
      "                \n",
      "      3.      The Universe Within 12.5 Light Years the Nearest Stars (atlasoftheuniverse.com)\n",
      "        54 points by dluan 1 hour ago  | hide | 20 comments              \n",
      "      \n",
      "                \n",
      "      4.      Suspicious Discontinuities (danluu.com)\n",
      "        45 points by janvdberg 1 hour ago  | hide | 3 comments              \n",
      "      \n",
      "                \n",
      "      5.      A group of ex-NSA and Amazon engineers are building a ‘GitHub for data’ (techcrunch.com)\n",
      "        256 points by malshe 6 hours ago  | hide | 171 comments              \n",
      "      \n",
      "                \n",
      "      6.      Why Germans won’t heat their homes even with free electricity? (kaikenhuippu.com)\n",
      "        32 points by ericdanielski 1 hour ago  | hide | 2 comments              \n",
      "      \n",
      "                \n",
      "      7.      Mel Brooks and Carl Reiner on their 70-year friendship (theguardian.com)\n",
      "        96 points by tintinnabula 4 hours ago  | hide | 18 comments              \n",
      "      \n",
      "                \n",
      "      8.      Launch HN: PostHog (YC W20) – open-source product analytics\n",
      "        127 points by james_impliu 5 hours ago  | hide | 48 comments              \n",
      "      \n",
      "                \n",
      "      9.      Truebill (YC W16) Is Hiring an Infrastructure Engineer (Remote) (angel.co)\n",
      "        22 minutes ago | hide      \n",
      "      \n",
      "                \n",
      "      10.      Show HN: Kasaya – A scripting language and runtime for browser automation (github.com)\n",
      "        291 points by hliyan 8 hours ago  | hide | 82 comments              \n",
      "      \n",
      "                \n",
      "      11.      Brothels of Ancient Pompeii (historytoday.com)\n",
      "        62 points by diodorus 4 hours ago  | hide | 10 comments              \n",
      "      \n",
      "                \n",
      "      12.      BlurHash: Algorithm to generate compact representation of an image placeholder (blurha.sh)\n",
      "        246 points by pcr910303 9 hours ago  | hide | 96 comments              \n",
      "      \n",
      "                \n",
      "      13.      How Saudi Arabia Infiltrated Twitter (buzzfeednews.com)\n",
      "        242 points by blatherard 10 hours ago  | hide | 70 comments              \n",
      "      \n",
      "                \n",
      "      14.      Later school start times are associated with more sleep and better performance (sciencemag.org)\n",
      "        137 points by simonebrunozzi 2 hours ago  | hide | 67 comments              \n",
      "      \n",
      "                \n",
      "      15.      FIDO2 security key company publishes results of internal security audit (doyensec.com)\n",
      "        10 points by conorpp 1 hour ago  | hide | discuss              \n",
      "      \n",
      "                \n",
      "      16.      MIT 6.S191: Introduction to Deep Learning (introtodeeplearning.com)\n",
      "        80 points by say_it_as_it_is 2 hours ago  | hide | 1 comment              \n",
      "      \n",
      "                \n",
      "      17.      Incident on 2020-02-20 21:31 UTC (githubstatus.com)\n",
      "        5 points by guessmyname 55 minutes ago  | hide | discuss              \n",
      "      \n",
      "                \n",
      "      18.      Larry Tesler Has Died (gizmodo.com)\n",
      "        1224 points by drallison 1 day ago  | hide | 135 comments              \n",
      "      \n",
      "                \n",
      "      19.      Formal proof and analysis of an incremental cycle detection algorithm (inria.fr)\n",
      "        16 points by lelf 2 hours ago  | hide | 1 comment              \n",
      "      \n",
      "                \n",
      "      20.      New Neanderthal remains associated with the ‘flower burial’ at Shanidar Cave (cambridge.org)\n",
      "        19 points by bookofjoe 3 hours ago  | hide | discuss              \n",
      "      \n",
      "                \n",
      "      21.      Big Ball of Mud (1999) (laputan.org)\n",
      "        100 points by brudgers 8 hours ago  | hide | 30 comments              \n",
      "      \n",
      "                \n",
      "      22.      Bert Sutherland Has Died (wikipedia.org)\n",
      "        619 points by dang 1 day ago  | hide | 30 comments              \n",
      "      \n",
      "                \n",
      "      23.      Generative Teaching Networks: Accelerating Neural Architecture Search (uber.com)\n",
      "        88 points by yigitdemirag 9 hours ago  | hide | 13 comments              \n",
      "      \n",
      "                \n",
      "      24.      Barclays scraps 'Big Brother' staff tracking system within one week (bbc.co.uk)\n",
      "        150 points by joshuahughes 5 hours ago  | hide | 124 comments              \n",
      "      \n",
      "                \n",
      "      25.      The Next Leap in Self-Driving: Prediction (olivercameron.substack.com)\n",
      "        79 points by edward 10 hours ago  | hide | 108 comments              \n",
      "      \n",
      "                \n",
      "      26.      The Law of Conservation of Complexity (nomodes.com)\n",
      "        63 points by angrygoat 8 hours ago  | hide | 32 comments              \n",
      "      \n",
      "                \n",
      "      27.      500 Byte Images: The Haiku Vector Icon Format (2016) (leahhanson.us)\n",
      "        239 points by cosmojg 14 hours ago  | hide | 86 comments              \n",
      "      \n",
      "                \n",
      "      28.      A trashed Italian manuscript got sewn into a sweet silk purse (atlasobscura.com)\n",
      "        6 points by Vigier 1 hour ago  | hide | discuss              \n",
      "      \n",
      "                \n",
      "      29.      What happens to a mail-order mattress after you return it (fivethirtyeight.com)\n",
      "        144 points by japaget 6 hours ago  | hide | 121 comments              \n",
      "      \n",
      "                \n",
      "      30.      Should Facebook, Google be liable for user posts? asks U.S. Attorney General (reuters.com)\n",
      "        104 points by jhatax 6 hours ago  | hide | 191 comments              \n",
      "      \n",
      "            More\n",
      "  \n",
      "\n",
      "\n",
      "        Applications are open for YC Summer 2020\n",
      "      Guidelines\n",
      "        | FAQ\n",
      "        | Support\n",
      "        | API\n",
      "        | Security\n",
      "        | Lists\n",
      "        | Bookmarklet\n",
      "        | Legal\n",
      "        | Apply to YC\n",
      "        | ContactSearch:\n",
      "          \n",
      "            \n",
      "      \n",
      "\n"
     ]
    }
   ],
   "source": [
    "from bs4 import BeautifulSoup\n",
    "\n",
    "# Remove HTML tags using Beautiful Soup library\n",
    "soup = BeautifulSoup(r.text, \"html5lib\")\n",
    "print(soup.get_text())"
   ]
  },
  {
   "cell_type": "code",
   "execution_count": 7,
   "metadata": {
    "scrolled": true
   },
   "outputs": [
    {
     "data": {
      "text/plain": [
       "<tr class=\"athing\" id=\"22378679\">\n",
       "      <td align=\"right\" class=\"title\" valign=\"top\"><span class=\"rank\">1.</span></td>      <td class=\"votelinks\" valign=\"top\"><center><a href=\"vote?id=22378679&amp;how=up&amp;goto=news\" id=\"up_22378679\"><div class=\"votearrow\" title=\"upvote\"></div></a></center></td><td class=\"title\"><a class=\"storylink\" href=\"https://ascmag.com/articles/the-mandalorian\">Real-time, in-camera background compositing in The Mandalorian</a><span class=\"sitebit comhead\"> (<a href=\"from?site=ascmag.com\"><span class=\"sitestr\">ascmag.com</span></a>)</span></td></tr>"
      ]
     },
     "execution_count": 7,
     "metadata": {},
     "output_type": "execute_result"
    }
   ],
   "source": [
    "# Find all articles\n",
    "summaries = soup.find_all(\"tr\", class_=\"athing\")\n",
    "summaries[0]"
   ]
  },
  {
   "cell_type": "code",
   "execution_count": 8,
   "metadata": {},
   "outputs": [
    {
     "data": {
      "text/plain": [
       "'Real-time, in-camera background compositing in The Mandalorian'"
      ]
     },
     "execution_count": 8,
     "metadata": {},
     "output_type": "execute_result"
    }
   ],
   "source": [
    "# Extract title\n",
    "summaries[0].find(\"a\", class_=\"storylink\").get_text().strip()"
   ]
  },
  {
   "cell_type": "code",
   "execution_count": 9,
   "metadata": {},
   "outputs": [
    {
     "name": "stdout",
     "output_type": "stream",
     "text": [
      "30 Article summaries found. Sample:\n",
      "Real-time, in-camera background compositing in The Mandalorian\n"
     ]
    }
   ],
   "source": [
    "# Find all articles, extract titles\n",
    "articles = []\n",
    "summaries = soup.find_all(\"tr\", class_=\"athing\")\n",
    "for summary in summaries:\n",
    "    title = summary.find(\"a\", class_=\"storylink\").get_text().strip()\n",
    "    articles.append((title))\n",
    "\n",
    "print(len(articles), \"Article summaries found. Sample:\")\n",
    "print(articles[0])"
   ]
  },
  {
   "cell_type": "markdown",
   "metadata": {
    "collapsed": true
   },
   "source": [
    "## Normalization"
   ]
  },
  {
   "cell_type": "markdown",
   "metadata": {},
   "source": [
    "### Case Normalization"
   ]
  },
  {
   "cell_type": "code",
   "execution_count": 10,
   "metadata": {},
   "outputs": [
    {
     "name": "stdout",
     "output_type": "stream",
     "text": [
      "The first time you see The Second Renaissance it may look boring. Look at it at least twice and definitely watch part 2. It will change your view of the matrix. Are the human people the ones who started the war ? Is AI a bad thing ?\n"
     ]
    }
   ],
   "source": [
    "# Sample text\n",
    "text = \"The first time you see The Second Renaissance it may look boring. Look at it at least twice and definitely watch part 2. It will change your view of the matrix. Are the human people the ones who started the war ? Is AI a bad thing ?\"\n",
    "print(text)"
   ]
  },
  {
   "cell_type": "code",
   "execution_count": 11,
   "metadata": {},
   "outputs": [
    {
     "name": "stdout",
     "output_type": "stream",
     "text": [
      "the first time you see the second renaissance it may look boring. look at it at least twice and definitely watch part 2. it will change your view of the matrix. are the human people the ones who started the war ? is ai a bad thing ?\n"
     ]
    }
   ],
   "source": [
    "# Convert to lowercase\n",
    "text = text.lower() \n",
    "print(text)"
   ]
  },
  {
   "cell_type": "markdown",
   "metadata": {},
   "source": [
    "### Punctuation Removal"
   ]
  },
  {
   "cell_type": "code",
   "execution_count": 12,
   "metadata": {},
   "outputs": [
    {
     "name": "stdout",
     "output_type": "stream",
     "text": [
      "the first time you see the second renaissance it may look boring  look at it at least twice and definitely watch part 2  it will change your view of the matrix  are the human people the ones who started the war   is ai a bad thing  \n"
     ]
    }
   ],
   "source": [
    "import re\n",
    "\n",
    "# Remove punctuation characters\n",
    "text = re.sub(r\"[^a-zA-Z0-9]\", \" \", text) \n",
    "print(text)"
   ]
  },
  {
   "cell_type": "markdown",
   "metadata": {},
   "source": [
    "## Tokenization"
   ]
  },
  {
   "cell_type": "code",
   "execution_count": 13,
   "metadata": {},
   "outputs": [
    {
     "name": "stdout",
     "output_type": "stream",
     "text": [
      "['the', 'first', 'time', 'you', 'see', 'the', 'second', 'renaissance', 'it', 'may', 'look', 'boring', 'look', 'at', 'it', 'at', 'least', 'twice', 'and', 'definitely', 'watch', 'part', '2', 'it', 'will', 'change', 'your', 'view', 'of', 'the', 'matrix', 'are', 'the', 'human', 'people', 'the', 'ones', 'who', 'started', 'the', 'war', 'is', 'ai', 'a', 'bad', 'thing']\n"
     ]
    }
   ],
   "source": [
    "# Split text into tokens (words)\n",
    "words = text.split()\n",
    "print(words)"
   ]
  },
  {
   "cell_type": "markdown",
   "metadata": {},
   "source": [
    "### NLTK: Natural Language ToolKit"
   ]
  },
  {
   "cell_type": "code",
   "execution_count": 14,
   "metadata": {},
   "outputs": [],
   "source": [
    "import os\n",
    "import nltk\n",
    "nltk.data.path.append(os.path.join(os.getcwd(), \"nltk_data\"))"
   ]
  },
  {
   "cell_type": "code",
   "execution_count": 15,
   "metadata": {},
   "outputs": [
    {
     "name": "stdout",
     "output_type": "stream",
     "text": [
      "Dr. Smith graduated from the University of Washington. He later started an analytics firm called Lux, which catered to enterprise customers.\n"
     ]
    }
   ],
   "source": [
    "# Another sample text\n",
    "text = \"Dr. Smith graduated from the University of Washington. He later started an analytics firm called Lux, which catered to enterprise customers.\"\n",
    "print(text)"
   ]
  },
  {
   "cell_type": "code",
   "execution_count": 16,
   "metadata": {},
   "outputs": [
    {
     "name": "stdout",
     "output_type": "stream",
     "text": [
      "['Dr.', 'Smith', 'graduated', 'from', 'the', 'University', 'of', 'Washington', '.', 'He', 'later', 'started', 'an', 'analytics', 'firm', 'called', 'Lux', ',', 'which', 'catered', 'to', 'enterprise', 'customers', '.']\n"
     ]
    }
   ],
   "source": [
    "from nltk.tokenize import word_tokenize\n",
    "\n",
    "# Split text into words using NLTK\n",
    "words = word_tokenize(text)\n",
    "print(words)"
   ]
  },
  {
   "cell_type": "code",
   "execution_count": 17,
   "metadata": {},
   "outputs": [
    {
     "name": "stdout",
     "output_type": "stream",
     "text": [
      "['Dr. Smith graduated from the University of Washington.', 'He later started an analytics firm called Lux, which catered to enterprise customers.']\n"
     ]
    }
   ],
   "source": [
    "from nltk.tokenize import sent_tokenize\n",
    "\n",
    "# Split text into sentences\n",
    "sentences = sent_tokenize(text)\n",
    "print(sentences)"
   ]
  },
  {
   "cell_type": "code",
   "execution_count": 18,
   "metadata": {},
   "outputs": [
    {
     "name": "stdout",
     "output_type": "stream",
     "text": [
      "['i', 'me', 'my', 'myself', 'we', 'our', 'ours', 'ourselves', 'you', \"you're\", \"you've\", \"you'll\", \"you'd\", 'your', 'yours', 'yourself', 'yourselves', 'he', 'him', 'his', 'himself', 'she', \"she's\", 'her', 'hers', 'herself', 'it', \"it's\", 'its', 'itself', 'they', 'them', 'their', 'theirs', 'themselves', 'what', 'which', 'who', 'whom', 'this', 'that', \"that'll\", 'these', 'those', 'am', 'is', 'are', 'was', 'were', 'be', 'been', 'being', 'have', 'has', 'had', 'having', 'do', 'does', 'did', 'doing', 'a', 'an', 'the', 'and', 'but', 'if', 'or', 'because', 'as', 'until', 'while', 'of', 'at', 'by', 'for', 'with', 'about', 'against', 'between', 'into', 'through', 'during', 'before', 'after', 'above', 'below', 'to', 'from', 'up', 'down', 'in', 'out', 'on', 'off', 'over', 'under', 'again', 'further', 'then', 'once', 'here', 'there', 'when', 'where', 'why', 'how', 'all', 'any', 'both', 'each', 'few', 'more', 'most', 'other', 'some', 'such', 'no', 'nor', 'not', 'only', 'own', 'same', 'so', 'than', 'too', 'very', 's', 't', 'can', 'will', 'just', 'don', \"don't\", 'should', \"should've\", 'now', 'd', 'll', 'm', 'o', 're', 've', 'y', 'ain', 'aren', \"aren't\", 'couldn', \"couldn't\", 'didn', \"didn't\", 'doesn', \"doesn't\", 'hadn', \"hadn't\", 'hasn', \"hasn't\", 'haven', \"haven't\", 'isn', \"isn't\", 'ma', 'mightn', \"mightn't\", 'mustn', \"mustn't\", 'needn', \"needn't\", 'shan', \"shan't\", 'shouldn', \"shouldn't\", 'wasn', \"wasn't\", 'weren', \"weren't\", 'won', \"won't\", 'wouldn', \"wouldn't\"]\n"
     ]
    }
   ],
   "source": [
    "# List stop words\n",
    "from nltk.corpus import stopwords\n",
    "print(stopwords.words(\"english\"))"
   ]
  },
  {
   "cell_type": "code",
   "execution_count": 19,
   "metadata": {},
   "outputs": [
    {
     "name": "stdout",
     "output_type": "stream",
     "text": [
      "['the', 'first', 'time', 'you', 'see', 'the', 'second', 'renaissance', 'it', 'may', 'look', 'boring', 'look', 'at', 'it', 'at', 'least', 'twice', 'and', 'definitely', 'watch', 'part', '2', 'it', 'will', 'change', 'your', 'view', 'of', 'the', 'matrix', 'are', 'the', 'human', 'people', 'the', 'ones', 'who', 'started', 'the', 'war', 'is', 'ai', 'a', 'bad', 'thing']\n"
     ]
    }
   ],
   "source": [
    "# Reset text\n",
    "text = \"The first time you see The Second Renaissance it may look boring. Look at it at least twice and definitely watch part 2. It will change your view of the matrix. Are the human people the ones who started the war ? Is AI a bad thing ?\"\n",
    "\n",
    "# Normalize it\n",
    "text = re.sub(r\"[^a-zA-Z0-9]\", \" \", text.lower())\n",
    "\n",
    "# Tokenize it\n",
    "words = text.split()\n",
    "print(words)"
   ]
  },
  {
   "cell_type": "code",
   "execution_count": 20,
   "metadata": {},
   "outputs": [
    {
     "name": "stdout",
     "output_type": "stream",
     "text": [
      "['first', 'time', 'see', 'second', 'renaissance', 'may', 'look', 'boring', 'look', 'least', 'twice', 'definitely', 'watch', 'part', '2', 'change', 'view', 'matrix', 'human', 'people', 'ones', 'started', 'war', 'ai', 'bad', 'thing']\n"
     ]
    }
   ],
   "source": [
    "# Remove stop words\n",
    "words = [w for w in words if w not in stopwords.words(\"english\")]\n",
    "print(words)"
   ]
  },
  {
   "cell_type": "markdown",
   "metadata": {},
   "source": [
    "### Sentence Parsing"
   ]
  },
  {
   "cell_type": "code",
   "execution_count": 21,
   "metadata": {},
   "outputs": [
    {
     "name": "stdout",
     "output_type": "stream",
     "text": [
      "(S\n",
      "  (NP I)\n",
      "  (VP\n",
      "    (VP (V shot) (NP (Det an) (N elephant)))\n",
      "    (PP (P in) (NP (Det my) (N pajamas)))))\n",
      "(S\n",
      "  (NP I)\n",
      "  (VP\n",
      "    (V shot)\n",
      "    (NP (Det an) (N elephant) (PP (P in) (NP (Det my) (N pajamas))))))\n"
     ]
    }
   ],
   "source": [
    "import nltk\n",
    "\n",
    "# Define a custom grammar\n",
    "my_grammar = nltk.CFG.fromstring(\"\"\"\n",
    "S -> NP VP\n",
    "PP -> P NP\n",
    "NP -> Det N | Det N PP | 'I'\n",
    "VP -> V NP | VP PP\n",
    "Det -> 'an' | 'my'\n",
    "N -> 'elephant' | 'pajamas'\n",
    "V -> 'shot'\n",
    "P -> 'in'\n",
    "\"\"\")\n",
    "parser = nltk.ChartParser(my_grammar)\n",
    "\n",
    "# Parse a sentence\n",
    "sentence = word_tokenize(\"I shot an elephant in my pajamas\")\n",
    "for tree in parser.parse(sentence):\n",
    "    print(tree)"
   ]
  },
  {
   "cell_type": "markdown",
   "metadata": {},
   "source": [
    "## Stemming & Lemmatization\n",
    "\n",
    "### Stemming"
   ]
  },
  {
   "cell_type": "code",
   "execution_count": 22,
   "metadata": {},
   "outputs": [
    {
     "name": "stdout",
     "output_type": "stream",
     "text": [
      "['first', 'time', 'see', 'second', 'renaiss', 'may', 'look', 'bore', 'look', 'least', 'twice', 'definit', 'watch', 'part', '2', 'chang', 'view', 'matrix', 'human', 'peopl', 'one', 'start', 'war', 'ai', 'bad', 'thing']\n"
     ]
    }
   ],
   "source": [
    "from nltk.stem.porter import PorterStemmer\n",
    "\n",
    "# Reduce words to their stems\n",
    "stemmed = [PorterStemmer().stem(w) for w in words]\n",
    "print(stemmed)"
   ]
  },
  {
   "cell_type": "markdown",
   "metadata": {},
   "source": [
    "### Lemmatization"
   ]
  },
  {
   "cell_type": "code",
   "execution_count": 23,
   "metadata": {},
   "outputs": [
    {
     "name": "stdout",
     "output_type": "stream",
     "text": [
      "['first', 'time', 'see', 'second', 'renaissance', 'may', 'look', 'boring', 'look', 'least', 'twice', 'definitely', 'watch', 'part', '2', 'change', 'view', 'matrix', 'human', 'people', 'one', 'started', 'war', 'ai', 'bad', 'thing']\n"
     ]
    }
   ],
   "source": [
    "from nltk.stem.wordnet import WordNetLemmatizer\n",
    "\n",
    "# Reduce words to their root form\n",
    "lemmed = [WordNetLemmatizer().lemmatize(w) for w in words]\n",
    "print(lemmed)"
   ]
  },
  {
   "cell_type": "code",
   "execution_count": 24,
   "metadata": {},
   "outputs": [
    {
     "name": "stdout",
     "output_type": "stream",
     "text": [
      "['first', 'time', 'see', 'second', 'renaissance', 'may', 'look', 'bore', 'look', 'least', 'twice', 'definitely', 'watch', 'part', '2', 'change', 'view', 'matrix', 'human', 'people', 'one', 'start', 'war', 'ai', 'bad', 'thing']\n"
     ]
    }
   ],
   "source": [
    "# Lemmatize verbs by specifying pos\n",
    "lemmed = [WordNetLemmatizer().lemmatize(w, pos='v') for w in lemmed]\n",
    "print(lemmed)"
   ]
  },
  {
   "cell_type": "code",
   "execution_count": null,
   "metadata": {},
   "outputs": [],
   "source": []
  }
 ],
 "metadata": {
  "kernelspec": {
   "display_name": "Python 3",
   "language": "python",
   "name": "python3"
  },
  "language_info": {
   "codemirror_mode": {
    "name": "ipython",
    "version": 3
   },
   "file_extension": ".py",
   "mimetype": "text/x-python",
   "name": "python",
   "nbconvert_exporter": "python",
   "pygments_lexer": "ipython3",
   "version": "3.6.8"
  }
 },
 "nbformat": 4,
 "nbformat_minor": 2
}
